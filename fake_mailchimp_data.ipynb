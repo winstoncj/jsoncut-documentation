{
 "cells": [
  {
   "cell_type": "markdown",
   "metadata": {},
   "source": [
    "# jsoncut example"
   ]
  },
  {
   "cell_type": "code",
   "execution_count": 31,
   "metadata": {},
   "outputs": [],
   "source": [
    "import fake_mc\n",
    "from jsoncut.core import cut\n",
    "from pandas.io.json import json_normalize\n",
    "import json\n",
    "import subprocess"
   ]
  },
  {
   "cell_type": "code",
   "execution_count": 2,
   "metadata": {},
   "outputs": [],
   "source": [
    "contacts = fake_mc.fake_mc_list('mc_contacts', 100)"
   ]
  },
  {
   "cell_type": "code",
   "execution_count": 19,
   "metadata": {},
   "outputs": [],
   "source": [
    "with open('contacts.json', 'w') as output:\n",
    "    json.dump(contacts, output)"
   ]
  },
  {
   "cell_type": "code",
   "execution_count": 3,
   "metadata": {},
   "outputs": [
    {
     "data": {
      "text/plain": [
       "{'_links': [{'href': 'https://us13.api.mailchimp.com/3.0/lists/25a058f03c/members/b8afd23e94db43cea51482df59cbe03c',\n",
       "   'method': 'GET',\n",
       "   'rel': 'self',\n",
       "   'targetSchema': 'https://us13.api.mailchimp.com/schema/3.0/Definitions/Lists/Members/Response.json'},\n",
       "  {'href': 'https://us13.api.mailchimp.com/3.0/lists/25a058f03c/members',\n",
       "   'method': 'GET',\n",
       "   'rel': 'parent',\n",
       "   'schema': 'https://us13.api.mailchimp.com/schema/3.0/CollectionLinks/Lists/Members.json',\n",
       "   'targetSchema': 'https://us13.api.mailchimp.com/schema/3.0/Definitions/Lists/Members/CollectionResponse.json'},\n",
       "  {'href': 'https://us13.api.mailchimp.com/3.0/lists/25a058f03c/members/b8afd23e94db43cea51482df59cbe03c',\n",
       "   'method': 'PATCH',\n",
       "   'rel': 'update',\n",
       "   'schema': 'https://us13.api.mailchimp.com/schema/3.0/Definitions/Lists/Members/PATCH.json',\n",
       "   'targetSchema': 'https://us13.api.mailchimp.com/schema/3.0/Definitions/Lists/Members/Response.json'},\n",
       "  {'href': 'https://us13.api.mailchimp.com/3.0/lists/25a058f03c/members/b8afd23e94db43cea51482df59cbe03c',\n",
       "   'method': 'PUT',\n",
       "   'rel': 'upsert',\n",
       "   'schema': 'https://us13.api.mailchimp.com/schema/3.0/Definitions/Lists/Members/PUT.json',\n",
       "   'targetSchema': 'https://us13.api.mailchimp.com/schema/3.0/Definitions/Lists/Members/Response.json'},\n",
       "  {'href': 'https://us13.api.mailchimp.com/3.0/lists/25a058f03c/members/b8afd23e94db43cea51482df59cbe03c',\n",
       "   'method': 'DELETE',\n",
       "   'rel': 'delete'},\n",
       "  {'href': 'https://us13.api.mailchimp.com/3.0/lists/25a058f03c/members/b8afd23e94db43cea51482df59cbe03c/activity',\n",
       "   'method': 'GET',\n",
       "   'rel': 'activity',\n",
       "   'targetSchema': 'https://us13.api.mailchimp.com/schema/3.0/Definitions/Lists/Members/Activity/Response.json'},\n",
       "  {'href': 'https://us13.api.mailchimp.com/3.0/lists/25a058f03c/members/b8afd23e94db43cea51482df59cbe03c/goals',\n",
       "   'method': 'GET',\n",
       "   'rel': 'goals',\n",
       "   'targetSchema': 'https://us13.api.mailchimp.com/schema/3.0/Definitions/Lists/Members/Goals/Response.json'},\n",
       "  {'href': 'https://us13.api.mailchimp.com/3.0/lists/25a058f03c/members/b8afd23e94db43cea51482df59cbe03c/notes',\n",
       "   'method': 'GET',\n",
       "   'rel': 'notes',\n",
       "   'targetSchema': 'https://us13.api.mailchimp.com/schema/3.0/Definitions/Lists/Members/Notes/CollectionResponse.json'}],\n",
       " 'email_address': 'kristinnguyen@yahoo.com',\n",
       " 'email_client': 'Apple Mail',\n",
       " 'email_type': 'html',\n",
       " 'id': 'b8afd23e94db43cea51482df59cbe03c',\n",
       " 'ip_opt': '',\n",
       " 'ip_signup': '',\n",
       " 'language': '',\n",
       " 'last_changed': '2018-02-27T19:37:10-05:00',\n",
       " 'list_id': '25a058f03c',\n",
       " 'location': {'country_code': 'US',\n",
       "  'dstoff': -4,\n",
       "  'gmtoff': -5,\n",
       "  'latitude': 40.9406,\n",
       "  'longitude': -73.8226,\n",
       "  'timezone': 'America/New_York'},\n",
       " 'member_rating': 4,\n",
       " 'merge_fields': {'FNAME': 'Daniel', 'LNAME': 'Little'},\n",
       " 'stats': {'avg_click_rate': 0.5245, 'avg_open_rate': 0.9403},\n",
       " 'status': 'subscribed',\n",
       " 'timestamp_opt': '2017-02-27T19:37:10-05:00',\n",
       " 'timestamp_signup': '',\n",
       " 'unique_email_id': '72d685269e',\n",
       " 'vip': False}"
      ]
     },
     "execution_count": 3,
     "metadata": {},
     "output_type": "execute_result"
    }
   ],
   "source": [
    "contacts['mc_contacts'][0]"
   ]
  },
  {
   "cell_type": "code",
   "execution_count": 4,
   "metadata": {},
   "outputs": [],
   "source": [
    "contacts_df = json_normalize(contacts['mc_contacts'])"
   ]
  },
  {
   "cell_type": "code",
   "execution_count": 6,
   "metadata": {},
   "outputs": [
    {
     "name": "stdout",
     "output_type": "stream",
     "text": [
      "<class 'pandas.core.frame.DataFrame'>\n",
      "RangeIndex: 100 entries, 0 to 99\n",
      "Data columns (total 26 columns):\n",
      "_links                   100 non-null object\n",
      "email_address            100 non-null object\n",
      "email_client             100 non-null object\n",
      "email_type               100 non-null object\n",
      "id                       100 non-null object\n",
      "ip_opt                   100 non-null object\n",
      "ip_signup                100 non-null object\n",
      "language                 100 non-null object\n",
      "last_changed             100 non-null object\n",
      "list_id                  100 non-null object\n",
      "location.country_code    100 non-null object\n",
      "location.dstoff          100 non-null int64\n",
      "location.gmtoff          100 non-null int64\n",
      "location.latitude        100 non-null float64\n",
      "location.longitude       100 non-null float64\n",
      "location.timezone        100 non-null object\n",
      "member_rating            100 non-null int64\n",
      "merge_fields.FNAME       100 non-null object\n",
      "merge_fields.LNAME       100 non-null object\n",
      "stats.avg_click_rate     100 non-null float64\n",
      "stats.avg_open_rate      100 non-null float64\n",
      "status                   100 non-null object\n",
      "timestamp_opt            100 non-null object\n",
      "timestamp_signup         100 non-null object\n",
      "unique_email_id          100 non-null object\n",
      "vip                      100 non-null bool\n",
      "dtypes: bool(1), float64(4), int64(3), object(18)\n",
      "memory usage: 19.7+ KB\n"
     ]
    }
   ],
   "source": [
    "contacts_df.info()"
   ]
  },
  {
   "cell_type": "code",
   "execution_count": 7,
   "metadata": {},
   "outputs": [
    {
     "data": {
      "text/plain": [
       "(100, 26)"
      ]
     },
     "execution_count": 7,
     "metadata": {},
     "output_type": "execute_result"
    }
   ],
   "source": [
    "contacts_df.shape"
   ]
  },
  {
   "cell_type": "code",
   "execution_count": 27,
   "metadata": {},
   "outputs": [
    {
     "name": "stdout",
     "output_type": "stream",
     "text": [
      "Usage: jsoncut [OPTIONS] [JSONFILE]\n",
      "\n",
      "  Quickly select or filter out properties in a JSON document.\n",
      "\n",
      "Options:\n",
      "  -r, --root TEXT                 Set the root of the JSON document\n",
      "  -g, --get TEXT                  Get JSON key-values and/or elements\n",
      "  -G, --getdefault <TEXT TEXT>...\n",
      "                                  (key, default-value); same as get, except\n",
      "                                  uses a default valuewhen the key or index is\n",
      "                                  not found\n",
      "  -d, --del TEXT                  delete JSON keys and/or indexes\n",
      "  -l, --list                      numbered JSON keys list\n",
      "  -i, --inspect                   inspect JSON document; all keys, indexes &\n",
      "                                  types\n",
      "  -c, --count                     count elements in top-level JSON arrays\n",
      "  -f, --fullscan                  deep inpections\n",
      "  -p, --fullpath                  preserve full path for names\n",
      "  -q, --quotechar TEXT            set quoting char for keys\n",
      "  -I, --indent INTEGER            indent JSON when redirecting\n",
      "  -n, --nocolor                   disable syntax highlighting\n",
      "  -s, --slice                     disable sequencer\n",
      "  --version                       Show the version and exit.\n",
      "  --help                          Show this message and exit.\n"
     ]
    }
   ],
   "source": [
    "!jsoncut --help"
   ]
  },
  {
   "cell_type": "code",
   "execution_count": 29,
   "metadata": {},
   "outputs": [
    {
     "name": "stdout",
     "output_type": "stream",
     "text": [
      " 1 _links\n",
      " 2 email_address\n",
      " 3 email_client\n",
      " 4 email_type\n",
      " 5 id\n",
      " 6 ip_opt\n",
      " 7 ip_signup\n",
      " 8 language\n",
      " 9 last_changed\n",
      "10 list_id\n",
      "11 location\n",
      "12 location.country_code\n",
      "13 location.dstoff\n",
      "14 location.gmtoff\n",
      "15 location.latitude\n",
      "16 location.longitude\n",
      "17 location.timezone\n",
      "18 member_rating\n",
      "19 merge_fields\n",
      "20 merge_fields.FNAME\n",
      "21 merge_fields.LNAME\n",
      "22 stats\n",
      "23 stats.avg_click_rate\n",
      "24 stats.avg_open_rate\n",
      "25 status\n",
      "26 timestamp_opt\n",
      "27 timestamp_signup\n",
      "28 unique_email_id\n",
      "29 vip\n"
     ]
    }
   ],
   "source": [
    "!jsoncut --root mc_contacts contacts.json --list --nocolor"
   ]
  },
  {
   "cell_type": "code",
   "execution_count": null,
   "metadata": {},
   "outputs": [],
   "source": [
    "subprocess.getoutput('jsoncut --root mc_contacts contacts.json --list --nocolor').split('\\n')"
   ]
  },
  {
   "cell_type": "code",
   "execution_count": 45,
   "metadata": {},
   "outputs": [
    {
     "data": {
      "text/plain": [
       "[['1', '_links'],\n",
       " ['2', 'email_address'],\n",
       " ['3', 'email_client'],\n",
       " ['4', 'email_type'],\n",
       " ['5', 'id'],\n",
       " ['6', 'ip_opt'],\n",
       " ['7', 'ip_signup'],\n",
       " ['8', 'language'],\n",
       " ['9', 'last_changed'],\n",
       " ['10', 'list_id'],\n",
       " ['11', 'location'],\n",
       " ['12', 'location.country_code'],\n",
       " ['13', 'location.dstoff'],\n",
       " ['14', 'location.gmtoff'],\n",
       " ['15', 'location.latitude'],\n",
       " ['16', 'location.longitude'],\n",
       " ['17', 'location.timezone'],\n",
       " ['18', 'member_rating'],\n",
       " ['19', 'merge_fields'],\n",
       " ['20', 'merge_fields.FNAME'],\n",
       " ['21', 'merge_fields.LNAME'],\n",
       " ['22', 'stats'],\n",
       " ['23', 'stats.avg_click_rate'],\n",
       " ['24', 'stats.avg_open_rate'],\n",
       " ['25', 'status'],\n",
       " ['26', 'timestamp_opt'],\n",
       " ['27', 'timestamp_signup'],\n",
       " ['28', 'unique_email_id'],\n",
       " ['29', 'vip']]"
      ]
     },
     "execution_count": 45,
     "metadata": {},
     "output_type": "execute_result"
    }
   ],
   "source": [
    "[x.strip().split() for x in \n",
    " subprocess.getoutput('jsoncut --root mc_contacts contacts.json --list --nocolor').split('\\n')]"
   ]
  },
  {
   "cell_type": "code",
   "execution_count": null,
   "metadata": {},
   "outputs": [],
   "source": []
  }
 ],
 "metadata": {
  "kernelspec": {
   "display_name": "Python 3",
   "language": "python",
   "name": "python3"
  },
  "language_info": {
   "codemirror_mode": {
    "name": "ipython",
    "version": 3
   },
   "file_extension": ".py",
   "mimetype": "text/x-python",
   "name": "python",
   "nbconvert_exporter": "python",
   "pygments_lexer": "ipython3",
   "version": "3.6.4"
  }
 },
 "nbformat": 4,
 "nbformat_minor": 2
}
