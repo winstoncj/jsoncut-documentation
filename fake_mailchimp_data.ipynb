{
 "cells": [
  {
   "cell_type": "markdown",
   "metadata": {},
   "source": [
    "# jsoncut ETL example for pandas\n",
    "\n",
    "*json_normalize* in pandas is powerful, but it can generate a lot of unwanted columns of data for deeply nested JSON objects. A dataframe with hundreds of columns isn't much easier to examine than the original JSON object; especially if you're looking to whittle down a monster JSON to a handful of desired features.\n",
    "\n",
    "*jsoncut* offers a more surgical approach, generating a list of numeric keys and their string key counterparts that show the heirarchical structure of your data at a glance and give you tools to transform only the keys you want into a new JSON object. As you'll see in the following examples *jsoncut* is both a command line tool and a package that you can bring into your project."
   ]
  },
  {
   "cell_type": "markdown",
   "metadata": {},
   "source": [
    "## A quick demo with fake MailChimp™ data\n",
    "\n",
    "Let's pull in the modules we need to generate some data to work with in memory and to save out as a file."
   ]
  },
  {
   "cell_type": "code",
   "execution_count": 71,
   "metadata": {},
   "outputs": [],
   "source": [
    "import fake_mc \n",
    "# generate fake MailChimp contacts JSON \n",
    "\n",
    "from jsoncut.core import cut \n",
    "# pull in the core module from jsoncut\n",
    "\n",
    "import pandas as pd\n",
    "\n",
    "from pandas.io.json import json_normalize \n",
    "# for comparison and eventually creating our clean dataframe\n",
    "\n",
    "import json \n",
    "# for saving out our dict of fake data as JSON\n",
    "\n",
    "import subprocess \n",
    "# we'll use this to grab some output from jsoncut on the cmd line"
   ]
  },
  {
   "cell_type": "markdown",
   "metadata": {},
   "source": [
    "Create a dict of 100 contacts with a root key of 'mc_contacts' and save it out as a .json file for later use."
   ]
  },
  {
   "cell_type": "code",
   "execution_count": 2,
   "metadata": {},
   "outputs": [],
   "source": [
    "contacts = fake_mc.fake_mc_list('mc_contacts', 100)"
   ]
  },
  {
   "cell_type": "code",
   "execution_count": 19,
   "metadata": {},
   "outputs": [],
   "source": [
    "with open('contacts.json', 'w') as output:\n",
    "    json.dump(contacts, output)"
   ]
  },
  {
   "cell_type": "code",
   "execution_count": 3,
   "metadata": {},
   "outputs": [
    {
     "data": {
      "text/plain": [
       "{'_links': [{'href': 'https://us13.api.mailchimp.com/3.0/lists/25a058f03c/members/b8afd23e94db43cea51482df59cbe03c',\n",
       "   'method': 'GET',\n",
       "   'rel': 'self',\n",
       "   'targetSchema': 'https://us13.api.mailchimp.com/schema/3.0/Definitions/Lists/Members/Response.json'},\n",
       "  {'href': 'https://us13.api.mailchimp.com/3.0/lists/25a058f03c/members',\n",
       "   'method': 'GET',\n",
       "   'rel': 'parent',\n",
       "   'schema': 'https://us13.api.mailchimp.com/schema/3.0/CollectionLinks/Lists/Members.json',\n",
       "   'targetSchema': 'https://us13.api.mailchimp.com/schema/3.0/Definitions/Lists/Members/CollectionResponse.json'},\n",
       "  {'href': 'https://us13.api.mailchimp.com/3.0/lists/25a058f03c/members/b8afd23e94db43cea51482df59cbe03c',\n",
       "   'method': 'PATCH',\n",
       "   'rel': 'update',\n",
       "   'schema': 'https://us13.api.mailchimp.com/schema/3.0/Definitions/Lists/Members/PATCH.json',\n",
       "   'targetSchema': 'https://us13.api.mailchimp.com/schema/3.0/Definitions/Lists/Members/Response.json'},\n",
       "  {'href': 'https://us13.api.mailchimp.com/3.0/lists/25a058f03c/members/b8afd23e94db43cea51482df59cbe03c',\n",
       "   'method': 'PUT',\n",
       "   'rel': 'upsert',\n",
       "   'schema': 'https://us13.api.mailchimp.com/schema/3.0/Definitions/Lists/Members/PUT.json',\n",
       "   'targetSchema': 'https://us13.api.mailchimp.com/schema/3.0/Definitions/Lists/Members/Response.json'},\n",
       "  {'href': 'https://us13.api.mailchimp.com/3.0/lists/25a058f03c/members/b8afd23e94db43cea51482df59cbe03c',\n",
       "   'method': 'DELETE',\n",
       "   'rel': 'delete'},\n",
       "  {'href': 'https://us13.api.mailchimp.com/3.0/lists/25a058f03c/members/b8afd23e94db43cea51482df59cbe03c/activity',\n",
       "   'method': 'GET',\n",
       "   'rel': 'activity',\n",
       "   'targetSchema': 'https://us13.api.mailchimp.com/schema/3.0/Definitions/Lists/Members/Activity/Response.json'},\n",
       "  {'href': 'https://us13.api.mailchimp.com/3.0/lists/25a058f03c/members/b8afd23e94db43cea51482df59cbe03c/goals',\n",
       "   'method': 'GET',\n",
       "   'rel': 'goals',\n",
       "   'targetSchema': 'https://us13.api.mailchimp.com/schema/3.0/Definitions/Lists/Members/Goals/Response.json'},\n",
       "  {'href': 'https://us13.api.mailchimp.com/3.0/lists/25a058f03c/members/b8afd23e94db43cea51482df59cbe03c/notes',\n",
       "   'method': 'GET',\n",
       "   'rel': 'notes',\n",
       "   'targetSchema': 'https://us13.api.mailchimp.com/schema/3.0/Definitions/Lists/Members/Notes/CollectionResponse.json'}],\n",
       " 'email_address': 'kristinnguyen@yahoo.com',\n",
       " 'email_client': 'Apple Mail',\n",
       " 'email_type': 'html',\n",
       " 'id': 'b8afd23e94db43cea51482df59cbe03c',\n",
       " 'ip_opt': '',\n",
       " 'ip_signup': '',\n",
       " 'language': '',\n",
       " 'last_changed': '2018-02-27T19:37:10-05:00',\n",
       " 'list_id': '25a058f03c',\n",
       " 'location': {'country_code': 'US',\n",
       "  'dstoff': -4,\n",
       "  'gmtoff': -5,\n",
       "  'latitude': 40.9406,\n",
       "  'longitude': -73.8226,\n",
       "  'timezone': 'America/New_York'},\n",
       " 'member_rating': 4,\n",
       " 'merge_fields': {'FNAME': 'Daniel', 'LNAME': 'Little'},\n",
       " 'stats': {'avg_click_rate': 0.5245, 'avg_open_rate': 0.9403},\n",
       " 'status': 'subscribed',\n",
       " 'timestamp_opt': '2017-02-27T19:37:10-05:00',\n",
       " 'timestamp_signup': '',\n",
       " 'unique_email_id': '72d685269e',\n",
       " 'vip': False}"
      ]
     },
     "execution_count": 3,
     "metadata": {},
     "output_type": "execute_result"
    }
   ],
   "source": [
    "contacts['mc_contacts'][0]"
   ]
  },
  {
   "cell_type": "markdown",
   "metadata": {},
   "source": [
    "\n",
    "\n",
    "So, our fist pass at this will be with *json_normalize*. \n",
    "\n"
   ]
  },
  {
   "cell_type": "code",
   "execution_count": 4,
   "metadata": {},
   "outputs": [],
   "source": [
    "contacts_df = json_normalize(contacts['mc_contacts'])"
   ]
  },
  {
   "cell_type": "code",
   "execution_count": 6,
   "metadata": {},
   "outputs": [
    {
     "name": "stdout",
     "output_type": "stream",
     "text": [
      "<class 'pandas.core.frame.DataFrame'>\n",
      "RangeIndex: 100 entries, 0 to 99\n",
      "Data columns (total 26 columns):\n",
      "_links                   100 non-null object\n",
      "email_address            100 non-null object\n",
      "email_client             100 non-null object\n",
      "email_type               100 non-null object\n",
      "id                       100 non-null object\n",
      "ip_opt                   100 non-null object\n",
      "ip_signup                100 non-null object\n",
      "language                 100 non-null object\n",
      "last_changed             100 non-null object\n",
      "list_id                  100 non-null object\n",
      "location.country_code    100 non-null object\n",
      "location.dstoff          100 non-null int64\n",
      "location.gmtoff          100 non-null int64\n",
      "location.latitude        100 non-null float64\n",
      "location.longitude       100 non-null float64\n",
      "location.timezone        100 non-null object\n",
      "member_rating            100 non-null int64\n",
      "merge_fields.FNAME       100 non-null object\n",
      "merge_fields.LNAME       100 non-null object\n",
      "stats.avg_click_rate     100 non-null float64\n",
      "stats.avg_open_rate      100 non-null float64\n",
      "status                   100 non-null object\n",
      "timestamp_opt            100 non-null object\n",
      "timestamp_signup         100 non-null object\n",
      "unique_email_id          100 non-null object\n",
      "vip                      100 non-null bool\n",
      "dtypes: bool(1), float64(4), int64(3), object(18)\n",
      "memory usage: 19.7+ KB\n"
     ]
    }
   ],
   "source": [
    "contacts_df.info()"
   ]
  },
  {
   "cell_type": "code",
   "execution_count": 7,
   "metadata": {},
   "outputs": [
    {
     "data": {
      "text/plain": [
       "(100, 26)"
      ]
     },
     "execution_count": 7,
     "metadata": {},
     "output_type": "execute_result"
    }
   ],
   "source": [
    "contacts_df.shape"
   ]
  },
  {
   "cell_type": "markdown",
   "metadata": {},
   "source": [
    "The resulting DF has a shape of 100 x 26, so we've got a lot of columns. Powerful, but unless we want everything, we still have some cleaning up to do. 26 isn't so bad, but if you've got hundreds of columns and you only want a handful, there's a better way..."
   ]
  },
  {
   "cell_type": "markdown",
   "metadata": {},
   "source": [
    "## *jsoncut* on the cmd line\n",
    "\n",
    "So, let's quickly execute *jsoncut* as a shell command from within our notebook using the '!' prefix and view the options."
   ]
  },
  {
   "cell_type": "code",
   "execution_count": 27,
   "metadata": {},
   "outputs": [
    {
     "name": "stdout",
     "output_type": "stream",
     "text": [
      "Usage: jsoncut [OPTIONS] [JSONFILE]\n",
      "\n",
      "  Quickly select or filter out properties in a JSON document.\n",
      "\n",
      "Options:\n",
      "  -r, --root TEXT                 Set the root of the JSON document\n",
      "  -g, --get TEXT                  Get JSON key-values and/or elements\n",
      "  -G, --getdefault <TEXT TEXT>...\n",
      "                                  (key, default-value); same as get, except\n",
      "                                  uses a default valuewhen the key or index is\n",
      "                                  not found\n",
      "  -d, --del TEXT                  delete JSON keys and/or indexes\n",
      "  -l, --list                      numbered JSON keys list\n",
      "  -i, --inspect                   inspect JSON document; all keys, indexes &\n",
      "                                  types\n",
      "  -c, --count                     count elements in top-level JSON arrays\n",
      "  -f, --fullscan                  deep inpections\n",
      "  -p, --fullpath                  preserve full path for names\n",
      "  -q, --quotechar TEXT            set quoting char for keys\n",
      "  -I, --indent INTEGER            indent JSON when redirecting\n",
      "  -n, --nocolor                   disable syntax highlighting\n",
      "  -s, --slice                     disable sequencer\n",
      "  --version                       Show the version and exit.\n",
      "  --help                          Show this message and exit.\n"
     ]
    }
   ],
   "source": [
    "!jsoncut --help"
   ]
  },
  {
   "cell_type": "markdown",
   "metadata": {},
   "source": [
    "Now, let's set our root key as `mc_contacts` and `--list` the keys in `contacts.json`"
   ]
  },
  {
   "cell_type": "code",
   "execution_count": 84,
   "metadata": {},
   "outputs": [
    {
     "name": "stdout",
     "output_type": "stream",
     "text": [
      "\u001b[33m 1\u001b[0m _links\n",
      "\u001b[33m 2\u001b[0m email_address\n",
      "\u001b[33m 3\u001b[0m email_client\n",
      "\u001b[33m 4\u001b[0m email_type\n",
      "\u001b[33m 5\u001b[0m id\n",
      "\u001b[33m 6\u001b[0m ip_opt\n",
      "\u001b[33m 7\u001b[0m ip_signup\n",
      "\u001b[33m 8\u001b[0m language\n",
      "\u001b[33m 9\u001b[0m last_changed\n",
      "\u001b[33m10\u001b[0m list_id\n",
      "\u001b[33m11\u001b[0m location\n",
      "\u001b[33m12\u001b[0m location.country_code\n",
      "\u001b[33m13\u001b[0m location.dstoff\n",
      "\u001b[33m14\u001b[0m location.gmtoff\n",
      "\u001b[33m15\u001b[0m location.latitude\n",
      "\u001b[33m16\u001b[0m location.longitude\n",
      "\u001b[33m17\u001b[0m location.timezone\n",
      "\u001b[33m18\u001b[0m member_rating\n",
      "\u001b[33m19\u001b[0m merge_fields\n",
      "\u001b[33m20\u001b[0m merge_fields.FNAME\n",
      "\u001b[33m21\u001b[0m merge_fields.LNAME\n",
      "\u001b[33m22\u001b[0m stats\n",
      "\u001b[33m23\u001b[0m stats.avg_click_rate\n",
      "\u001b[33m24\u001b[0m stats.avg_open_rate\n",
      "\u001b[33m25\u001b[0m status\n",
      "\u001b[33m26\u001b[0m timestamp_opt\n",
      "\u001b[33m27\u001b[0m timestamp_signup\n",
      "\u001b[33m28\u001b[0m unique_email_id\n",
      "\u001b[33m29\u001b[0m vip\n"
     ]
    }
   ],
   "source": [
    "!jsoncut --root mc_contacts contacts.json --list"
   ]
  },
  {
   "cell_type": "markdown",
   "metadata": {},
   "source": [
    "And if you want to pull in the list of keys for later use, grab the output and make it into a DF."
   ]
  },
  {
   "cell_type": "code",
   "execution_count": 85,
   "metadata": {},
   "outputs": [],
   "source": [
    "keys_df = pd.DataFrame([x.strip().split() for x in \n",
    " subprocess.getoutput('jsoncut --root mc_contacts contacts.json --list --nocolor').split('\\n')],\n",
    "                      index=None, columns=['numeric_key','string_key'])"
   ]
  },
  {
   "cell_type": "code",
   "execution_count": 86,
   "metadata": {},
   "outputs": [
    {
     "data": {
      "text/html": [
       "<div>\n",
       "<style scoped>\n",
       "    .dataframe tbody tr th:only-of-type {\n",
       "        vertical-align: middle;\n",
       "    }\n",
       "\n",
       "    .dataframe tbody tr th {\n",
       "        vertical-align: top;\n",
       "    }\n",
       "\n",
       "    .dataframe thead th {\n",
       "        text-align: right;\n",
       "    }\n",
       "</style>\n",
       "<table border=\"1\" class=\"dataframe\">\n",
       "  <thead>\n",
       "    <tr style=\"text-align: right;\">\n",
       "      <th></th>\n",
       "      <th>numeric_key</th>\n",
       "      <th>string_key</th>\n",
       "    </tr>\n",
       "  </thead>\n",
       "  <tbody>\n",
       "    <tr>\n",
       "      <th>0</th>\n",
       "      <td>1</td>\n",
       "      <td>_links</td>\n",
       "    </tr>\n",
       "    <tr>\n",
       "      <th>1</th>\n",
       "      <td>2</td>\n",
       "      <td>email_address</td>\n",
       "    </tr>\n",
       "    <tr>\n",
       "      <th>2</th>\n",
       "      <td>3</td>\n",
       "      <td>email_client</td>\n",
       "    </tr>\n",
       "    <tr>\n",
       "      <th>3</th>\n",
       "      <td>4</td>\n",
       "      <td>email_type</td>\n",
       "    </tr>\n",
       "    <tr>\n",
       "      <th>4</th>\n",
       "      <td>5</td>\n",
       "      <td>id</td>\n",
       "    </tr>\n",
       "    <tr>\n",
       "      <th>5</th>\n",
       "      <td>6</td>\n",
       "      <td>ip_opt</td>\n",
       "    </tr>\n",
       "    <tr>\n",
       "      <th>6</th>\n",
       "      <td>7</td>\n",
       "      <td>ip_signup</td>\n",
       "    </tr>\n",
       "    <tr>\n",
       "      <th>7</th>\n",
       "      <td>8</td>\n",
       "      <td>language</td>\n",
       "    </tr>\n",
       "    <tr>\n",
       "      <th>8</th>\n",
       "      <td>9</td>\n",
       "      <td>last_changed</td>\n",
       "    </tr>\n",
       "    <tr>\n",
       "      <th>9</th>\n",
       "      <td>10</td>\n",
       "      <td>list_id</td>\n",
       "    </tr>\n",
       "    <tr>\n",
       "      <th>10</th>\n",
       "      <td>11</td>\n",
       "      <td>location</td>\n",
       "    </tr>\n",
       "    <tr>\n",
       "      <th>11</th>\n",
       "      <td>12</td>\n",
       "      <td>location.country_code</td>\n",
       "    </tr>\n",
       "    <tr>\n",
       "      <th>12</th>\n",
       "      <td>13</td>\n",
       "      <td>location.dstoff</td>\n",
       "    </tr>\n",
       "    <tr>\n",
       "      <th>13</th>\n",
       "      <td>14</td>\n",
       "      <td>location.gmtoff</td>\n",
       "    </tr>\n",
       "    <tr>\n",
       "      <th>14</th>\n",
       "      <td>15</td>\n",
       "      <td>location.latitude</td>\n",
       "    </tr>\n",
       "    <tr>\n",
       "      <th>15</th>\n",
       "      <td>16</td>\n",
       "      <td>location.longitude</td>\n",
       "    </tr>\n",
       "    <tr>\n",
       "      <th>16</th>\n",
       "      <td>17</td>\n",
       "      <td>location.timezone</td>\n",
       "    </tr>\n",
       "    <tr>\n",
       "      <th>17</th>\n",
       "      <td>18</td>\n",
       "      <td>member_rating</td>\n",
       "    </tr>\n",
       "    <tr>\n",
       "      <th>18</th>\n",
       "      <td>19</td>\n",
       "      <td>merge_fields</td>\n",
       "    </tr>\n",
       "    <tr>\n",
       "      <th>19</th>\n",
       "      <td>20</td>\n",
       "      <td>merge_fields.FNAME</td>\n",
       "    </tr>\n",
       "    <tr>\n",
       "      <th>20</th>\n",
       "      <td>21</td>\n",
       "      <td>merge_fields.LNAME</td>\n",
       "    </tr>\n",
       "    <tr>\n",
       "      <th>21</th>\n",
       "      <td>22</td>\n",
       "      <td>stats</td>\n",
       "    </tr>\n",
       "    <tr>\n",
       "      <th>22</th>\n",
       "      <td>23</td>\n",
       "      <td>stats.avg_click_rate</td>\n",
       "    </tr>\n",
       "    <tr>\n",
       "      <th>23</th>\n",
       "      <td>24</td>\n",
       "      <td>stats.avg_open_rate</td>\n",
       "    </tr>\n",
       "    <tr>\n",
       "      <th>24</th>\n",
       "      <td>25</td>\n",
       "      <td>status</td>\n",
       "    </tr>\n",
       "    <tr>\n",
       "      <th>25</th>\n",
       "      <td>26</td>\n",
       "      <td>timestamp_opt</td>\n",
       "    </tr>\n",
       "    <tr>\n",
       "      <th>26</th>\n",
       "      <td>27</td>\n",
       "      <td>timestamp_signup</td>\n",
       "    </tr>\n",
       "    <tr>\n",
       "      <th>27</th>\n",
       "      <td>28</td>\n",
       "      <td>unique_email_id</td>\n",
       "    </tr>\n",
       "    <tr>\n",
       "      <th>28</th>\n",
       "      <td>29</td>\n",
       "      <td>vip</td>\n",
       "    </tr>\n",
       "  </tbody>\n",
       "</table>\n",
       "</div>"
      ],
      "text/plain": [
       "   numeric_key             string_key\n",
       "0            1                 _links\n",
       "1            2          email_address\n",
       "2            3           email_client\n",
       "3            4             email_type\n",
       "4            5                     id\n",
       "5            6                 ip_opt\n",
       "6            7              ip_signup\n",
       "7            8               language\n",
       "8            9           last_changed\n",
       "9           10                list_id\n",
       "10          11               location\n",
       "11          12  location.country_code\n",
       "12          13        location.dstoff\n",
       "13          14        location.gmtoff\n",
       "14          15      location.latitude\n",
       "15          16     location.longitude\n",
       "16          17      location.timezone\n",
       "17          18          member_rating\n",
       "18          19           merge_fields\n",
       "19          20     merge_fields.FNAME\n",
       "20          21     merge_fields.LNAME\n",
       "21          22                  stats\n",
       "22          23   stats.avg_click_rate\n",
       "23          24    stats.avg_open_rate\n",
       "24          25                 status\n",
       "25          26          timestamp_opt\n",
       "26          27       timestamp_signup\n",
       "27          28        unique_email_id\n",
       "28          29                    vip"
      ]
     },
     "execution_count": 86,
     "metadata": {},
     "output_type": "execute_result"
    }
   ],
   "source": [
    "keys_df"
   ]
  },
  {
   "cell_type": "markdown",
   "metadata": {},
   "source": [
    "Let's use `cut()` to grab just the keys we want, and while we're at it, in the *order* that we want them. In the following step, when we use *json_normalize*, we're now generating a clean DF with just the columns we need."
   ]
  },
  {
   "cell_type": "code",
   "execution_count": 57,
   "metadata": {},
   "outputs": [],
   "source": [
    "new_contacts = cut(contacts, rootkey='mc_contacts', getkeys='21,20,2,9,18,23,24,28')"
   ]
  },
  {
   "cell_type": "code",
   "execution_count": 58,
   "metadata": {},
   "outputs": [],
   "source": [
    "new_contacts_df = json_normalize(new_contacts)"
   ]
  },
  {
   "cell_type": "code",
   "execution_count": 59,
   "metadata": {},
   "outputs": [
    {
     "data": {
      "text/plain": [
       "(100, 8)"
      ]
     },
     "execution_count": 59,
     "metadata": {},
     "output_type": "execute_result"
    }
   ],
   "source": [
    "new_contacts_df.shape"
   ]
  },
  {
   "cell_type": "markdown",
   "metadata": {},
   "source": [
    "A little bit of housekeeping; lower-case the column names and cast the `last_changed` column to datetime."
   ]
  },
  {
   "cell_type": "code",
   "execution_count": 87,
   "metadata": {},
   "outputs": [],
   "source": [
    "new_contacts_df.columns = [x.lower() for x in new_contacts_df.columns]"
   ]
  },
  {
   "cell_type": "code",
   "execution_count": 67,
   "metadata": {},
   "outputs": [],
   "source": [
    "new_contacts_df.last_changed = new_contacts_df.last_changed.astype('datetime64[ns]')"
   ]
  },
  {
   "cell_type": "code",
   "execution_count": 88,
   "metadata": {},
   "outputs": [
    {
     "data": {
      "text/html": [
       "<div>\n",
       "<style scoped>\n",
       "    .dataframe tbody tr th:only-of-type {\n",
       "        vertical-align: middle;\n",
       "    }\n",
       "\n",
       "    .dataframe tbody tr th {\n",
       "        vertical-align: top;\n",
       "    }\n",
       "\n",
       "    .dataframe thead th {\n",
       "        text-align: right;\n",
       "    }\n",
       "</style>\n",
       "<table border=\"1\" class=\"dataframe\">\n",
       "  <thead>\n",
       "    <tr style=\"text-align: right;\">\n",
       "      <th></th>\n",
       "      <th>fname</th>\n",
       "      <th>lname</th>\n",
       "      <th>avg_click_rate</th>\n",
       "      <th>avg_open_rate</th>\n",
       "      <th>email_address</th>\n",
       "      <th>last_changed</th>\n",
       "      <th>member_rating</th>\n",
       "      <th>unique_email_id</th>\n",
       "    </tr>\n",
       "  </thead>\n",
       "  <tbody>\n",
       "    <tr>\n",
       "      <th>0</th>\n",
       "      <td>Daniel</td>\n",
       "      <td>Little</td>\n",
       "      <td>0.5245</td>\n",
       "      <td>0.9403</td>\n",
       "      <td>kristinnguyen@yahoo.com</td>\n",
       "      <td>2018-02-28 00:37:10</td>\n",
       "      <td>4</td>\n",
       "      <td>72d685269e</td>\n",
       "    </tr>\n",
       "    <tr>\n",
       "      <th>1</th>\n",
       "      <td>Teresa</td>\n",
       "      <td>Chavez</td>\n",
       "      <td>0.1754</td>\n",
       "      <td>0.2404</td>\n",
       "      <td>chad77@yahoo.com</td>\n",
       "      <td>2018-03-06 03:01:03</td>\n",
       "      <td>1</td>\n",
       "      <td>1f8339dd6e</td>\n",
       "    </tr>\n",
       "    <tr>\n",
       "      <th>2</th>\n",
       "      <td>Troy</td>\n",
       "      <td>Thomas</td>\n",
       "      <td>0.1293</td>\n",
       "      <td>0.9713</td>\n",
       "      <td>jamesedward@hotmail.com</td>\n",
       "      <td>2018-03-13 22:59:36</td>\n",
       "      <td>5</td>\n",
       "      <td>c669f285e5</td>\n",
       "    </tr>\n",
       "    <tr>\n",
       "      <th>3</th>\n",
       "      <td>Corey</td>\n",
       "      <td>Mccormick</td>\n",
       "      <td>0.6081</td>\n",
       "      <td>0.4599</td>\n",
       "      <td>garciaglen@gmail.com</td>\n",
       "      <td>2018-01-11 08:47:57</td>\n",
       "      <td>3</td>\n",
       "      <td>92dc14af85</td>\n",
       "    </tr>\n",
       "    <tr>\n",
       "      <th>4</th>\n",
       "      <td>Teresa</td>\n",
       "      <td>Wallace</td>\n",
       "      <td>0.7382</td>\n",
       "      <td>0.3605</td>\n",
       "      <td>mosleyjacob@mcintyre.com</td>\n",
       "      <td>2018-03-20 18:12:30</td>\n",
       "      <td>3</td>\n",
       "      <td>5189fc6168</td>\n",
       "    </tr>\n",
       "    <tr>\n",
       "      <th>5</th>\n",
       "      <td>Mary</td>\n",
       "      <td>Baker</td>\n",
       "      <td>0.8410</td>\n",
       "      <td>0.6623</td>\n",
       "      <td>gcohen@brown.info</td>\n",
       "      <td>2018-03-09 22:13:42</td>\n",
       "      <td>2</td>\n",
       "      <td>d446a61091</td>\n",
       "    </tr>\n",
       "    <tr>\n",
       "      <th>6</th>\n",
       "      <td>Jennifer</td>\n",
       "      <td>Fox</td>\n",
       "      <td>0.6865</td>\n",
       "      <td>0.9967</td>\n",
       "      <td>qsimmons@bender-johnson.com</td>\n",
       "      <td>2018-03-06 03:10:22</td>\n",
       "      <td>4</td>\n",
       "      <td>b2e042a35c</td>\n",
       "    </tr>\n",
       "    <tr>\n",
       "      <th>7</th>\n",
       "      <td>Jamie</td>\n",
       "      <td>Soto</td>\n",
       "      <td>0.2643</td>\n",
       "      <td>0.8545</td>\n",
       "      <td>marissa37@gmail.com</td>\n",
       "      <td>2018-03-20 06:11:12</td>\n",
       "      <td>1</td>\n",
       "      <td>89e2ce549c</td>\n",
       "    </tr>\n",
       "    <tr>\n",
       "      <th>8</th>\n",
       "      <td>Rebecca</td>\n",
       "      <td>Wilson</td>\n",
       "      <td>0.9813</td>\n",
       "      <td>0.9946</td>\n",
       "      <td>mark77@yahoo.com</td>\n",
       "      <td>2018-01-30 13:08:39</td>\n",
       "      <td>3</td>\n",
       "      <td>c5796a5a3d</td>\n",
       "    </tr>\n",
       "    <tr>\n",
       "      <th>9</th>\n",
       "      <td>Michelle</td>\n",
       "      <td>Moore</td>\n",
       "      <td>0.2254</td>\n",
       "      <td>0.1506</td>\n",
       "      <td>nschmidt@west-davis.info</td>\n",
       "      <td>2018-04-08 18:06:10</td>\n",
       "      <td>0</td>\n",
       "      <td>52d60657ff</td>\n",
       "    </tr>\n",
       "  </tbody>\n",
       "</table>\n",
       "</div>"
      ],
      "text/plain": [
       "      fname      lname  avg_click_rate  avg_open_rate  \\\n",
       "0    Daniel     Little          0.5245         0.9403   \n",
       "1    Teresa     Chavez          0.1754         0.2404   \n",
       "2      Troy     Thomas          0.1293         0.9713   \n",
       "3     Corey  Mccormick          0.6081         0.4599   \n",
       "4    Teresa    Wallace          0.7382         0.3605   \n",
       "5      Mary      Baker          0.8410         0.6623   \n",
       "6  Jennifer        Fox          0.6865         0.9967   \n",
       "7     Jamie       Soto          0.2643         0.8545   \n",
       "8   Rebecca     Wilson          0.9813         0.9946   \n",
       "9  Michelle      Moore          0.2254         0.1506   \n",
       "\n",
       "                 email_address        last_changed  member_rating  \\\n",
       "0      kristinnguyen@yahoo.com 2018-02-28 00:37:10              4   \n",
       "1             chad77@yahoo.com 2018-03-06 03:01:03              1   \n",
       "2      jamesedward@hotmail.com 2018-03-13 22:59:36              5   \n",
       "3         garciaglen@gmail.com 2018-01-11 08:47:57              3   \n",
       "4     mosleyjacob@mcintyre.com 2018-03-20 18:12:30              3   \n",
       "5            gcohen@brown.info 2018-03-09 22:13:42              2   \n",
       "6  qsimmons@bender-johnson.com 2018-03-06 03:10:22              4   \n",
       "7          marissa37@gmail.com 2018-03-20 06:11:12              1   \n",
       "8             mark77@yahoo.com 2018-01-30 13:08:39              3   \n",
       "9     nschmidt@west-davis.info 2018-04-08 18:06:10              0   \n",
       "\n",
       "  unique_email_id  \n",
       "0      72d685269e  \n",
       "1      1f8339dd6e  \n",
       "2      c669f285e5  \n",
       "3      92dc14af85  \n",
       "4      5189fc6168  \n",
       "5      d446a61091  \n",
       "6      b2e042a35c  \n",
       "7      89e2ce549c  \n",
       "8      c5796a5a3d  \n",
       "9      52d60657ff  "
      ]
     },
     "execution_count": 88,
     "metadata": {},
     "output_type": "execute_result"
    }
   ],
   "source": [
    "new_contacts_df.head(10)"
   ]
  },
  {
   "cell_type": "code",
   "execution_count": 69,
   "metadata": {},
   "outputs": [
    {
     "name": "stdout",
     "output_type": "stream",
     "text": [
      "<class 'pandas.core.frame.DataFrame'>\n",
      "RangeIndex: 100 entries, 0 to 99\n",
      "Data columns (total 8 columns):\n",
      "FNAME              100 non-null object\n",
      "LNAME              100 non-null object\n",
      "avg_click_rate     100 non-null float64\n",
      "avg_open_rate      100 non-null float64\n",
      "email_address      100 non-null object\n",
      "last_changed       100 non-null datetime64[ns]\n",
      "member_rating      100 non-null int64\n",
      "unique_email_id    100 non-null object\n",
      "dtypes: datetime64[ns](1), float64(2), int64(1), object(4)\n",
      "memory usage: 6.3+ KB\n"
     ]
    }
   ],
   "source": [
    "new_contacts_df.info()"
   ]
  },
  {
   "cell_type": "markdown",
   "metadata": {},
   "source": [
    "And there you have it. *jsoncut* is a great tool for precision feature extraction from JSON objects and a great preparation step before bringing your data into *pandas*."
   ]
  },
  {
   "cell_type": "code",
   "execution_count": null,
   "metadata": {},
   "outputs": [],
   "source": []
  }
 ],
 "metadata": {
  "kernelspec": {
   "display_name": "Python 3",
   "language": "python",
   "name": "python3"
  },
  "language_info": {
   "codemirror_mode": {
    "name": "ipython",
    "version": 3
   },
   "file_extension": ".py",
   "mimetype": "text/x-python",
   "name": "python",
   "nbconvert_exporter": "python",
   "pygments_lexer": "ipython3",
   "version": "3.6.4"
  }
 },
 "nbformat": 4,
 "nbformat_minor": 2
}
